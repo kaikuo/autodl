{
 "cells": [
  {
   "cell_type": "code",
   "execution_count": 1,
   "metadata": {},
   "outputs": [
    {
     "name": "stdout",
     "output_type": "stream",
     "text": [
      "  \"tag_name\": \"v0.5.11\",\n"
     ]
    }
   ],
   "source": [
    "# 本notebook安装ollama最新版本，只需要运行一次，之后可另存为autodl的镜像；\n",
    "# 第一段代码查询最新版本\n",
    "! curl -s https://api.github.com/repos/ollama/ollama/releases/latest | grep -E \"tag_name\""
   ]
  },
  {
   "cell_type": "code",
   "execution_count": null,
   "metadata": {},
   "outputs": [
    {
     "name": "stdout",
     "output_type": "stream",
     "text": [
      "wget -c https://ghproxy.cn/https://github.com/ollama/ollama/releases/download/v0.5.11/ollama-linux-amd64.tgz -o ollama-linux-amd64.v0.5.11.tgz\n"
     ]
    }
   ],
   "source": [
    "# 第二段代码下载最新版本\n",
    "# 如果下载卡住，可反复运行，默认已使用-c参数，实现断点续传。\n",
    "mirror=\"https://ghproxy.cn\"\n",
    "version=\"v0.5.11\"\n",
    "!echo wget -c {mirror}/https://github.com/ollama/ollama/releases/download/{version}/ollama-linux-amd64.tgz -o ollama-linux-amd64.{version}.tgz\n",
    "!wget -c {mirror}/https://github.com/ollama/ollama/releases/download/{version}/ollama-linux-amd64.tgz -o ollama-linux-amd64.{version}.tgz"
   ]
  },
  {
   "cell_type": "code",
   "execution_count": null,
   "metadata": {},
   "outputs": [],
   "source": [
    "# 第三段代码解压代码\n",
    "!tar -C /usr -xzvf ollama-linux-amd64.{version}.tgz"
   ]
  }
 ],
 "metadata": {
  "kernelspec": {
   "display_name": "Python 3 (ipykernel)",
   "language": "python",
   "name": "python3"
  },
  "language_info": {
   "codemirror_mode": {
    "name": "ipython",
    "version": 3
   },
   "file_extension": ".py",
   "mimetype": "text/x-python",
   "name": "python",
   "nbconvert_exporter": "python",
   "pygments_lexer": "ipython3",
   "version": "3.12.3"
  }
 },
 "nbformat": 4,
 "nbformat_minor": 4
}
