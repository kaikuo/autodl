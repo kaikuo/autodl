{
 "cells": [
  {
   "cell_type": "markdown",
   "metadata": {},
   "source": [
    "## kaggle快速下载docker-compose镜像\n",
    "\n",
    "有一段时间通过梯子或docker mirror网站都遇到问题，故提供基于kaggle快速下载docker镜像的方法，供大家使用。\n",
    "由于kaggle默认可以快速访问所有web地址，所以配置url地址即可(如dify)。\n",
    "如果是macos或arm版linux，在确认指定镜像具有arm64版本时，设置arm=True。"
   ]
  },
  {
   "cell_type": "code",
   "execution_count": null,
   "metadata": {
    "vscode": {
     "languageId": "plaintext"
    }
   },
   "outputs": [],
   "source": [
    "url = \"https://raw.githubusercontent.com/langgenius/dify/main/docker/docker-compose.yaml\"\n",
    "arm = False"
   ]
  },
  {
   "cell_type": "code",
   "execution_count": null,
   "metadata": {
    "vscode": {
     "languageId": "plaintext"
    }
   },
   "outputs": [],
   "source": [
    "import os\n",
    "import subprocess\n",
    "import requests\n",
    "\n",
    "URL = (\n",
    "    \"https://raw.githubusercontent.com/langgenius/dify/main/docker/docker-compose.yaml\"\n",
    ")\n",
    "CMD_TPL = \"skopeo copy --insecure-policy docker://{} oci-archive:images/{}.tar\"\n",
    "RESTORE_TPL = \"skopeo copy --insecure-policy oci-archive:{}.tar docker-daemon:{}\\n\"\n",
    "\n",
    "def get_images(text=URL, stop=\"qdran\", filter=\"\", arm=False, online=True):\n",
    "  ret = []\n",
    "  restore = []\n",
    "  used = []\n",
    "  if arm:\n",
    "    CMD_TPL = \"skopeo copy --insecure-policy --override-arch=arm64 docker://{} oci-archive:images/{}.tar\"\n",
    "  else:\n",
    "    CMD_TPL = \"skopeo copy --insecure-policy docker://{} oci-archive:images/{}.tar\"\n",
    "  if online:\n",
    "    response = requests.get(text)\n",
    "    if response.status_code == 200:\n",
    "      # 获取文件内容\n",
    "      file_content = response.text\n",
    "  else:\n",
    "    file_content = text\n",
    "  for line in file_content.splitlines():\n",
    "    pline = line.lstrip()\n",
    "    if pline.startswith(\"image: \"):\n",
    "      img = pline.split()[-1]\n",
    "      if img not in used:\n",
    "        img_filename = img.replace(\"/\", \"_\").replace(\".\", \"_\").replace(\":\", \"_\")\n",
    "        img_parts = img.split(':')\n",
    "        if len(img_parts)<2:\n",
    "            img = img+':latest'\n",
    "        if filter:  # 如果给出过滤字符串，则进行判断\n",
    "          if filter in img_filename:\n",
    "            ret.append(CMD_TPL.format(img, img_filename))\n",
    "            restore.append(RESTORE_TPL.format(img_filename, img))\n",
    "            used.append(img)\n",
    "        else:  # 否则无条件输出\n",
    "          ret.append(CMD_TPL.format(img, img_filename))\n",
    "          restore.append(RESTORE_TPL.format(img_filename, img))\n",
    "          used.append(img)\n",
    "        if stop:\n",
    "          if stop in img:\n",
    "              return ret, restore\n",
    "  return ret, restore\n",
    "\n",
    "def downloads_image_raw(images, restore, tar_flag=False):\n",
    "  os.system(\"!skopeo | apt install -y skopeo\")\n",
    "  if not os.path.exists(\"images\"):\n",
    "    os.makedirs(\"images\")\n",
    "  print(\"==下载镜像文件\")\n",
    "  for cmd in images:\n",
    "    filename = cmd.split(':')[-1]\n",
    "    print(f\"下载{filename} with {cmd}\")\n",
    "    if not os.path.exists(filename):\n",
    "      subprocess.run(cmd, shell=True)\n",
    "    else:\n",
    "      print(f\"-- 跳过，{filename}已存在\")\n",
    "  print(\"==写入import脚本\")\n",
    "  with open(\"images/import.sh\", \"w\") as f:\n",
    "      f.write(\"#!/bin/bash\\n\")\n",
    "      f.writelines(restore)\n",
    "  os.system(\"chmod +x images/import.sh && ls -la images\")\n",
    "  title = images[0].split(\"/\")[-1]\n",
    "  if tar_flag:\n",
    "    print(f\"==压缩镜像文件 {title}\")\n",
    "    os.system(f\"tar -cvf docker-{title} images\")\n",
    "\n",
    "def downloads_image(url, arm=False, tar_flag=False):\n",
    "    images, restore = get_images(url, arm=arm)  # langgenius_dify\n",
    "    downloads_image_raw(images, restore, tar_flag)\n",
    "\n",
    "downloads_image(url, arm=arm, tar_flag=False)  # AMD64架构，如果是ARM64架构，则arm=True"
   ]
  }
 ],
 "metadata": {
  "language_info": {
   "name": "python"
  }
 },
 "nbformat": 4,
 "nbformat_minor": 2
}
