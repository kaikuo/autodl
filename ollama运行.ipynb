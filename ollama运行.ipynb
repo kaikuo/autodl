{
 "cells": [
  {
   "cell_type": "markdown",
   "metadata": {},
   "source": [
    "## 前提\n",
    "运行目录下的ollama安装.ipynb来更新文件\n",
    "\n",
    "## 使用方法\n",
    "\n",
    "### notebook使用\n",
    "直接选择\"Run All\"，此时本notebook将以异步的方式来运行ollama serve命令，并通过6006端口来绑定到autodl的自定义服务来访问\n",
    "\n",
    "### 命令行使用\n",
    "```bash\n",
    "export OLLAMA_HOST=0.0.0.0:6006\n",
    "ollama ls\n",
    "```"
   ]
  },
  {
   "cell_type": "code",
   "execution_count": null,
   "metadata": {
    "vscode": {
     "languageId": "plaintext"
    }
   },
   "outputs": [],
   "source": [
    "import os\n",
    "import asyncio\n",
    "\n",
    "# 设置运行端口\n",
    "os.environ.update({'OLLAMA_HOST': '0.0.0.0:6006'})\n",
    "\n",
    "async def run_process(cmd, verb=True, path=None):\n",
    "  if path:\n",
    "    os.chdir(path)\n",
    "  print(f'>>> starting {path}:', *cmd)\n",
    "  p = await asyncio.subprocess.create_subprocess_exec(\n",
    "      *cmd,\n",
    "      stdout=asyncio.subprocess.PIPE,\n",
    "      stderr=asyncio.subprocess.PIPE,\n",
    "  )\n",
    "\n",
    "\n",
    "  async def pipe(lines):\n",
    "    async for line in lines:\n",
    "      print(line.strip().decode('utf-8'))\n",
    "\n",
    "  if verb:\n",
    "      await asyncio.gather(\n",
    "          pipe(p.stdout),\n",
    "          pipe(p.stderr),\n",
    "      )\n",
    "  else:\n",
    "    await asyncio.gather(pipe(p.stdout))\n",
    "\n",
    "await asyncio.gather(\n",
    "    run_process(['ollama', 'serve']),\n",
    ")"
   ]
  }
 ],
 "metadata": {
  "language_info": {
   "name": "python"
  }
 },
 "nbformat": 4,
 "nbformat_minor": 2
}
